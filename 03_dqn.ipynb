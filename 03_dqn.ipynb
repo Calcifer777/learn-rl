{
  "nbformat": 4,
  "nbformat_minor": 0,
  "metadata": {
    "colab": {
      "provenance": [],
      "authorship_tag": "ABX9TyMwoa0vLaDEZ6nV9S7yjYkA",
      "include_colab_link": true
    },
    "kernelspec": {
      "name": "python3",
      "display_name": "Python 3"
    },
    "language_info": {
      "name": "python"
    }
  },
  "cells": [
    {
      "cell_type": "markdown",
      "metadata": {
        "id": "view-in-github",
        "colab_type": "text"
      },
      "source": [
        "<a href=\"https://colab.research.google.com/github/Calcifer777/learn-rl/blob/main/03_dqn.ipynb\" target=\"_parent\"><img src=\"https://colab.research.google.com/assets/colab-badge.svg\" alt=\"Open In Colab\"/></a>"
      ]
    },
    {
      "cell_type": "code",
      "source": [
        "%%bash\n",
        "\n",
        "apt install -q xvfb python-opengl ffmpeg"
      ],
      "metadata": {
        "id": "ILlYKmTS2z4D"
      },
      "execution_count": null,
      "outputs": []
    },
    {
      "cell_type": "code",
      "source": [
        "!pip install -q gymnasium renderlab"
      ],
      "metadata": {
        "id": "GXtTExr0yOtM"
      },
      "execution_count": 16,
      "outputs": []
    },
    {
      "cell_type": "code",
      "execution_count": 17,
      "metadata": {
        "id": "QLoRr8oQyD6P"
      },
      "outputs": [],
      "source": [
        "import gymnasium as gym\n",
        "import math\n",
        "import random\n",
        "import matplotlib\n",
        "import matplotlib.pyplot as plt\n",
        "from collections import namedtuple, deque\n",
        "from itertools import count\n",
        "import yaml\n",
        "import renderlab\n",
        "\n",
        "import torch\n",
        "import torch.nn as nn\n",
        "import torch.optim as optim\n",
        "import torch.nn.functional as F"
      ]
    },
    {
      "cell_type": "code",
      "source": [
        "# set up matplotlib\n",
        "is_ipython = 'inline' in matplotlib.get_backend()\n",
        "if is_ipython:\n",
        "    from IPython import display\n",
        "\n",
        "plt.ion()\n",
        "\n",
        "# if GPU is to be used\n",
        "device = torch.device(\"cuda\" if torch.cuda.is_available() else \"cpu\")"
      ],
      "metadata": {
        "id": "VoktSOtXyIrH"
      },
      "execution_count": 4,
      "outputs": []
    },
    {
      "cell_type": "code",
      "source": [
        "Transition = namedtuple('Transition',\n",
        "                        ('state', 'action', 'next_state', 'reward'))"
      ],
      "metadata": {
        "id": "AeqntEvW8Cgb"
      },
      "execution_count": 60,
      "outputs": []
    },
    {
      "cell_type": "code",
      "source": [
        "class Memory:\n",
        "\n",
        "    def __init__(self, capacity):\n",
        "        self.memory = deque([], maxlen=capacity)\n",
        "\n",
        "    def push(self, *args):\n",
        "        \"\"\"Save a transition\"\"\"\n",
        "        self.memory.append(Transition(*args))\n",
        "\n",
        "    def sample(self, batch_size):\n",
        "        return random.sample(self.memory, batch_size)\n",
        "\n",
        "    def __len__(self):\n",
        "        return len(self.memory)"
      ],
      "metadata": {
        "id": "o47vEMm7yLve"
      },
      "execution_count": 65,
      "outputs": []
    },
    {
      "cell_type": "code",
      "source": [
        "class Policy(nn.Module):\n",
        "\n",
        "    def __init__(self, dim_inputs, dim_outputs, dim_hidden=128):\n",
        "        super(Policy, self).__init__()\n",
        "        self.layer1 = nn.Linear(dim_inputs, dim_hidden)\n",
        "        self.layer2 = nn.Linear(dim_hidden, dim_hidden)\n",
        "        self.layer3 = nn.Linear(dim_hidden, dim_outputs)\n",
        "\n",
        "    def forward(self, x):\n",
        "        x = F.relu(self.layer1(x))\n",
        "        x = F.relu(self.layer2(x))\n",
        "        return self.layer3(x)"
      ],
      "metadata": {
        "id": "MzvQ07sayWHE"
      },
      "execution_count": 102,
      "outputs": []
    },
    {
      "cell_type": "code",
      "source": [
        "%%bash\n",
        "\n",
        "echo \"\"\"\n",
        "BATCH_SIZE: 128  # num transitions sampled from the replay buffer\n",
        "GAMMA: 0.99  # discount factor\n",
        "EPS_START: 0.9  # starting value of exploration rate\n",
        "EPS_END: 0.05  # ending value of exploration rate\n",
        "EPS_DECAY: 1000  # exploration rate decay\n",
        "TAU: 0.005  # target network update rate\n",
        "LR: 0.001  # DQN optimizer learning rate\n",
        "\"\"\" > params.yaml"
      ],
      "metadata": {
        "id": "eXPap2eqzXix"
      },
      "execution_count": 103,
      "outputs": []
    },
    {
      "cell_type": "code",
      "source": [
        "with open(\"params.yaml\", \"r\") as fp:\n",
        "  params = yaml.safe_load(fp)"
      ],
      "metadata": {
        "id": "lA7S0WM_zDU8"
      },
      "execution_count": 104,
      "outputs": []
    },
    {
      "cell_type": "code",
      "source": [
        "def get_expl_rate(steps_done, start, end, decay):\n",
        "  return end + (start - end) * math.exp(-1. * steps_done / decay)"
      ],
      "metadata": {
        "id": "asWNuFr_0ft9"
      },
      "execution_count": 105,
      "outputs": []
    },
    {
      "cell_type": "code",
      "source": [
        "env = gym.make(\"CartPole-v1\", render_mode=\"rgb_array\")"
      ],
      "metadata": {
        "id": "uJYrzH7F1Zhp"
      },
      "execution_count": 106,
      "outputs": []
    },
    {
      "cell_type": "code",
      "source": [
        "def select_action(state, env, expl_rate, policy_net):\n",
        "    sample = random.random()\n",
        "    if sample > expl_rate:\n",
        "        with torch.no_grad():\n",
        "            # t.max(1) will return the largest column value of each row.\n",
        "            # second column on max result is index of where max element was\n",
        "            # found, so we pick action with the larger expected reward.\n",
        "            values, indices = policy_net(state).max(1)\n",
        "            return indices.view(1, 1)\n",
        "    else:\n",
        "        return torch.tensor([[env.action_space.sample()]], device=device, dtype=torch.long)"
      ],
      "metadata": {
        "id": "jHcBFubL0Dzy"
      },
      "execution_count": 107,
      "outputs": []
    },
    {
      "cell_type": "code",
      "source": [
        "def plot_durations(episode_durations, show_result=False):\n",
        "    plt.figure(1)\n",
        "    durations_t = torch.tensor(episode_durations, dtype=torch.float)\n",
        "    if show_result:\n",
        "        plt.title('Result')\n",
        "    else:\n",
        "        plt.clf()\n",
        "        plt.title('Training...')\n",
        "    plt.xlabel('Episode')\n",
        "    plt.ylabel('Duration')\n",
        "    plt.plot(durations_t.numpy())\n",
        "    # Take 100 episode averages and plot them too\n",
        "    if len(durations_t) >= 100:\n",
        "        means = durations_t.unfold(0, 100, 1).mean(1).view(-1)\n",
        "        means = torch.cat((torch.zeros(99), means))\n",
        "        plt.plot(means.numpy())\n",
        "\n",
        "    plt.pause(0.001)  # pause a bit so that plots are updated\n",
        "    if is_ipython:\n",
        "        if not show_result:\n",
        "            display.display(plt.gcf())\n",
        "            display.clear_output(wait=True)\n",
        "        else:\n",
        "            display.display(plt.gcf())"
      ],
      "metadata": {
        "id": "TdxB8Icp59VU"
      },
      "execution_count": 108,
      "outputs": []
    },
    {
      "cell_type": "code",
      "source": [
        "def optimize_model(policy, target_policy, memory, batch_size, gamma, optimizer, loss_fn):\n",
        "    if len(memory) < batch_size:\n",
        "      return\n",
        "    transitions = memory.sample(batch_size)\n",
        "    # Transpose the batch (see https://stackoverflow.com/a/19343/3343043 for\n",
        "    # detailed explanation). This converts batch-array of Transitions\n",
        "    # to Transition of batch-arrays.\n",
        "    batch = Transition(*zip(*transitions))\n",
        "\n",
        "    # Compute a mask of non-final states and concatenate the batch elements\n",
        "    # (a final state would've been the one after which simulation ended)\n",
        "    non_final_mask = torch.tensor(\n",
        "      tuple(map(lambda s: s is not None, batch.next_state)), \n",
        "      device=device, \n",
        "      dtype=torch.bool\n",
        "    )\n",
        "    non_final_next_states = torch.cat(\n",
        "      [s for s in batch.next_state if s is not None]\n",
        "    )\n",
        "    state_batch = torch.cat(batch.state)\n",
        "    action_batch = torch.cat(batch.action)\n",
        "    reward_batch = torch.cat(batch.reward)\n",
        "\n",
        "    # Compute Q(s_t, a) - the model computes Q(s_t), then we select the\n",
        "    # columns of actions taken. These are the actions which would've been taken\n",
        "    # for each batch state according to policy_net\n",
        "    q_pred = policy(state_batch).gather(1, action_batch)\n",
        "\n",
        "    # Compute V(s_{t+1}) for all next states.\n",
        "    # Expected values of actions for non_final_next_states are computed based\n",
        "    # on the \"older\" target_net; selecting their best reward with max(1)[0].\n",
        "    # This is merged based on the mask, such that we'll have either the expected\n",
        "    # state value or 0 in case the state was final.\n",
        "    next_state_values = torch.zeros(batch_size, device=device)\n",
        "    with torch.no_grad():\n",
        "        next_state_values[non_final_mask] = target_policy(non_final_next_states).max(1)[0]\n",
        "    \n",
        "    # Compute the expected Q values\n",
        "    q_target = reward_batch + (next_state_values * gamma)\n",
        "\n",
        "    # Compute Huber loss \n",
        "    loss = loss_fn(q_pred, q_target.unsqueeze(1))\n",
        "\n",
        "    # Optimize the model\n",
        "    optimizer.zero_grad()\n",
        "    loss.backward()\n",
        "\n",
        "    # In-place gradient clipping\n",
        "    torch.nn.utils.clip_grad_value_(policy.parameters(), 100)\n",
        "    optimizer.step()"
      ],
      "metadata": {
        "id": "ZrYyN7A57R_N"
      },
      "execution_count": 109,
      "outputs": []
    },
    {
      "cell_type": "code",
      "source": [
        "NUM_INPUTS = env.observation_space.shape[0]\n",
        "NUM_OUTPUTS = env.action_space.n"
      ],
      "metadata": {
        "id": "zq-c7tzJ4OLe"
      },
      "execution_count": 110,
      "outputs": []
    },
    {
      "cell_type": "code",
      "source": [
        "def interpolate_policy(target, updated, rate, inplace=False):\n",
        "  # Soft update of the target network's weights\n",
        "  # θ′ ← τ θ + (1 −τ )θ′\n",
        "  target_state = target.state_dict()\n",
        "  new_state = updated.state_dict()\n",
        "  for key in new_state:\n",
        "    target_state[key] = new_state[key]*rate + target_state[key]*(1-rate)\n",
        "  if inplace:\n",
        "    target.load_state_dict(target_state)\n",
        "  return target_state"
      ],
      "metadata": {
        "id": "QoBf0ndTAxIG"
      },
      "execution_count": 111,
      "outputs": []
    },
    {
      "cell_type": "code",
      "source": [
        "num_episodes = 600 if torch.cuda.is_available() else 50\n",
        "memory = Memory(capacity=10000)\n",
        "episode_durations = list()\n",
        "\n",
        "policy = Policy(NUM_INPUTS, NUM_OUTPUTS).to(device)\n",
        "policy_target = Policy(NUM_INPUTS, NUM_OUTPUTS).to(device)\n",
        "\n",
        "optimizer = optim.AdamW(policy.parameters(), lr=params[\"LR\"], amsgrad=True)\n",
        "loss_fn = nn.SmoothL1Loss()\n",
        "\n",
        "steps_done = 0"
      ],
      "metadata": {
        "id": "6dHJa3lj_SI8"
      },
      "execution_count": 112,
      "outputs": []
    },
    {
      "cell_type": "code",
      "source": [
        "for i_episode in range(num_episodes):\n",
        "  # Initialize the environment and get it's state\n",
        "  state, info = env.reset()\n",
        "  state = torch.tensor(state, device=device).unsqueeze(0)\n",
        "  for t in count():\n",
        "    expl_rate = get_expl_rate(steps_done, params[\"EPS_START\"], params[\"EPS_END\"], params[\"EPS_DECAY\"])\n",
        "    action = select_action(state, env, expl_rate, policy)\n",
        "    steps_done +=1\n",
        "    \n",
        "    observation, reward, terminated, truncated, _ = env.step(action.item())\n",
        "    reward = torch.tensor([reward], device=device)\n",
        "    done = terminated or truncated\n",
        "\n",
        "    next_state = None if terminated else torch.tensor(observation, device=device).unsqueeze(0)\n",
        "    \n",
        "    # Store the transition in memory\n",
        "    memory.push(state, action, next_state, reward)\n",
        "\n",
        "    # Move to the next state\n",
        "    state = next_state\n",
        "\n",
        "    # Perform one step of the optimization (on the policy network)\n",
        "    optimize_model(policy, policy_target, memory, params[\"BATCH_SIZE\"], params[\"GAMMA\"], optimizer, loss_fn)\n",
        "\n",
        "    # Soft update of the target network's weights:  θ′ ← τ θ + (1 −τ )θ′\n",
        "    new_target_params = interpolate_policy(policy_target, policy, params[\"TAU\"])\n",
        "    policy_target.load_state_dict(new_target_params)\n",
        "\n",
        "    if done:\n",
        "      episode_durations.append(t + 1)\n",
        "      plot_durations(episode_durations)\n",
        "      break"
      ],
      "metadata": {
        "colab": {
          "base_uri": "https://localhost:8080/",
          "height": 34
        },
        "id": "1ggYsoAp_OiC",
        "outputId": "44b402b1-32ee-4d05-d602-732e5f1eb9f1"
      },
      "execution_count": 114,
      "outputs": [
        {
          "output_type": "display_data",
          "data": {
            "text/plain": [
              "<Figure size 640x480 with 0 Axes>"
            ]
          },
          "metadata": {}
        }
      ]
    },
    {
      "cell_type": "code",
      "source": [
        "plot_durations(episode_durations, show_result=True)\n",
        "plt.ioff()\n",
        "plt.show()"
      ],
      "metadata": {
        "colab": {
          "base_uri": "https://localhost:8080/",
          "height": 506
        },
        "id": "QY137UadCLPD",
        "outputId": "f8e6c82d-be3b-48fc-d55a-a2cc6d335f39"
      },
      "execution_count": 116,
      "outputs": [
        {
          "output_type": "display_data",
          "data": {
            "text/plain": [
              "<Figure size 640x480 with 1 Axes>"
            ],
            "image/png": "[encoded data removed]"
          },
          "metadata": {}
        },
        {
          "output_type": "display_data",
          "data": {
            "text/plain": [
              "<Figure size 640x480 with 0 Axes>"
            ]
          },
          "metadata": {}
        },
        {
          "output_type": "display_data",
          "data": {
            "text/plain": [
              "<Figure size 640x480 with 0 Axes>"
            ]
          },
          "metadata": {}
        }
      ]
    },
    {
      "cell_type": "code",
      "source": [],
      "metadata": {
        "id": "f7uEMuQaKD3W"
      },
      "execution_count": null,
      "outputs": []
    }
  ]
}